{
 "cells": [
  {
   "cell_type": "markdown",
   "metadata": {},
   "source": [
    "# It looks like that the polarization vectors computed by phonopy includes the phase factor exp(iQd)"
   ]
  },
  {
   "cell_type": "code",
   "execution_count": 1,
   "metadata": {},
   "outputs": [
    {
     "name": "stderr",
     "output_type": "stream",
     "text": [
      "/home/lj7/miniconda2/envs/dev-mcvine-new/lib/python2.7/site-packages/h5py/__init__.py:36: FutureWarning: Conversion of the second argument of issubdtype from `float` to `np.floating` is deprecated. In future, it will be treated as `np.float64 == np.dtype(float).type`.\n",
      "  from ._conv import register_converters as _register_converters\n"
     ]
    }
   ],
   "source": [
    "# some goodies\n",
    "%matplotlib inline\n",
    "from matplotlib import pyplot as plt\n",
    "import numpy as np, histogram.hdf as hh, histogram as H\n",
    "import os"
   ]
  },
  {
   "cell_type": "markdown",
   "metadata": {},
   "source": [
    "## Phonon data"
   ]
  },
  {
   "cell_type": "code",
   "execution_count": 2,
   "metadata": {},
   "outputs": [
    {
     "name": "stdout",
     "output_type": "stream",
     "text": [
      "exp_DOS.h5  FORCE_CONSTANTS  POSCAR  SPOSCAR\r\n"
     ]
    }
   ],
   "source": [
    "ls ../data/graphite/"
   ]
  },
  {
   "cell_type": "code",
   "execution_count": 4,
   "metadata": {},
   "outputs": [],
   "source": [
    "disp_dir = os.path.abspath('../data/graphite/')"
   ]
  },
  {
   "cell_type": "code",
   "execution_count": 5,
   "metadata": {},
   "outputs": [],
   "source": [
    "# cat {disp_dir}/POSCAR\n",
    "# cat {disp_dir}/SPOSCAR"
   ]
  },
  {
   "cell_type": "markdown",
   "metadata": {},
   "source": [
    "## basis and reciprocal basis"
   ]
  },
  {
   "cell_type": "code",
   "execution_count": 6,
   "metadata": {},
   "outputs": [
    {
     "data": {
      "text/plain": [
       "array([[ 2.44618916,  0.        ,  0.        ],\n",
       "       [-1.22309458,  2.11846196,  0.        ],\n",
       "       [ 0.        ,  0.        ,  6.65422905]])"
      ]
     },
     "execution_count": 6,
     "metadata": {},
     "output_type": "execute_result"
    }
   ],
   "source": [
    "basis = np.array(\n",
    "    map(float,\n",
    "        \"2.44618916393\t0.0\t0.0\t-1.22309458197\t2.11846195843\t0.0\t0.0\t0.0\t6.65422904762\".split())\n",
    "    )\n",
    "basis.shape = 3, 3\n",
    "basis"
   ]
  },
  {
   "cell_type": "code",
   "execution_count": 7,
   "metadata": {},
   "outputs": [
    {
     "data": {
      "text/plain": [
       "(4, 3)"
      ]
     },
     "execution_count": 7,
     "metadata": {},
     "output_type": "execute_result"
    }
   ],
   "source": [
    "# atom positions\n",
    "fractional_positions = np.array([\n",
    "    [0, 0, .25],\n",
    "    [0, 0, .75],\n",
    "    [1./3, 2./3, 0.25],\n",
    "    [2./3, 1./3, 0.75]\n",
    "])\n",
    "\n",
    "positions = np.dot(fractional_positions, basis)\n",
    "positions.shape"
   ]
  },
  {
   "cell_type": "code",
   "execution_count": 8,
   "metadata": {},
   "outputs": [],
   "source": [
    "a1,a2,a3 = basis\n",
    "v = np.dot(a1, np.cross(a2, a3))\n",
    "b1 = 2*np.pi * np.cross(a2, a3)/v\n",
    "b2 = 2*np.pi * np.cross(a3, a1)/v\n",
    "b3 = 2*np.pi * np.cross(a1, a2)/v\n",
    "Q_basis = np.array([b1, b2, b3])"
   ]
  },
  {
   "cell_type": "code",
   "execution_count": 9,
   "metadata": {},
   "outputs": [],
   "source": [
    "inv_Q_basis = np.linalg.inv(Q_basis)"
   ]
  },
  {
   "cell_type": "markdown",
   "metadata": {},
   "source": [
    "## Compute phonons"
   ]
  },
  {
   "cell_type": "code",
   "execution_count": 62,
   "metadata": {},
   "outputs": [
    {
     "name": "stdout",
     "output_type": "stream",
     "text": [
      "C\r\n",
      "    1.0\r\n",
      "       2.44618916393 0.00000000000   0.00000000000           \r\n",
      "      -1.22309458197 2.11846195843   0.00000000000\r\n",
      "       0.00000000000   0.00000000000 6.65422904762 \r\n",
      "  4\r\n",
      "Direct\r\n",
      "        0.00000000 0.00000000 0.25000000\r\n",
      "        0.00000000 0.00000000 0.75000000\r\n",
      "        0.33333333 0.66666667 0.25000000\r\n",
      "        0.66666667 0.33333333 0.75000000\r\n"
     ]
    }
   ],
   "source": [
    "!cat {os.path.join(disp_dir, 'POSCAR')}"
   ]
  },
  {
   "cell_type": "code",
   "execution_count": 65,
   "metadata": {},
   "outputs": [
    {
     "name": "stdout",
     "output_type": "stream",
     "text": [
      " 144\r\n",
      "   1   1\r\n",
      "    64.722023959334848    -0.000000000000012     0.000000000000000\r\n",
      "    -0.000000000000014    64.722023959334820    -0.000000000000002\r\n",
      "     0.000000000000026     0.000000000000012    14.545125718328633\r\n",
      "   1   2\r\n",
      "    -4.739575929473816    -0.339247569041192     0.000000000000000\r\n",
      "     0.340599895562029     2.733796249187515    -0.000000000000000\r\n",
      "    -0.000000000000002     0.000000000000000     0.499816270448648\r\n",
      "   1   3\r\n",
      "    -0.109879716364381     0.034454683900044     0.000000000000000\r\n",
      "    -0.035907177193926     0.289124041307858    -0.000000000000000\r\n",
      "    -0.000000000000000     0.000000000000000     0.013945451137851\r\n",
      "   1   4\r\n",
      "    -0.151779628456694     0.000000000000000    -0.000000000000000\r\n",
      "    -0.000000000000141    -0.092080491420462     0.000000000000000\r\n",
      "    -0.000000000000000    -0.000000000000000    -0.005529744734835\r\n",
      "   1   5\r\n",
      "    -0.109879716364218    -0.034454683900044     0.000000000000000\r\n",
      "     0.035907177192043     0.289124041307695    -0.000000000000000\r\n"
     ]
    }
   ],
   "source": [
    "!head -n 20 {os.path.join(disp_dir, 'FORCE_CONSTANTS')}"
   ]
  },
  {
   "cell_type": "code",
   "execution_count": 10,
   "metadata": {},
   "outputs": [],
   "source": [
    "from phonopy.interface import vasp\n",
    "from phonopy.units import VaspToTHz\n",
    "from phonopy import Phonopy, file_IO\n",
    "\n",
    "bulk = vasp.read_vasp(os.path.join(disp_dir, 'POSCAR'), ['C'])\n",
    "phonon = Phonopy(bulk, supercell_matrix=np.diag([6,6,1]), factor=VaspToTHz)\n",
    "phonon.generate_displacements(distance=0.01)\n",
    "force_constants = file_IO.parse_FORCE_CONSTANTS(os.path.join(disp_dir, 'FORCE_CONSTANTS'))\n",
    "phonon.set_force_constants(force_constants)"
   ]
  },
  {
   "cell_type": "markdown",
   "metadata": {},
   "source": [
    "## Polarization vectors: phase"
   ]
  },
  {
   "cell_type": "markdown",
   "metadata": {},
   "source": [
    "It looks like the pol vectors from phonopy includes the phase factor. let us check"
   ]
  },
  {
   "cell_type": "code",
   "execution_count": 85,
   "metadata": {},
   "outputs": [
    {
     "name": "stdout",
     "output_type": "stream",
     "text": [
      "(2, 12, 12)\n"
     ]
    }
   ],
   "source": [
    "hkls2 = [[0,0,0], [0,0,1]]\n",
    "phonon.set_qpoints_phonon(hkls2, is_eigenvectors=True, write_dynamical_matrices=False)\n",
    "freqs2, pols2 = phonon.get_qpoints_phonon()\n",
    "print pols2.shape\n",
    "pols2 = np.transpose(pols2, (0,2,1))\n",
    "pols2.shape = 2, 12, 4, 3"
   ]
  },
  {
   "cell_type": "code",
   "execution_count": 86,
   "metadata": {},
   "outputs": [
    {
     "name": "stdout",
     "output_type": "stream",
     "text": [
      "[3.34225831e-02 3.34225831e-02 9.28652901e-02 1.52100901e+00\n",
      " 1.52100901e+00 2.61040097e+00 2.63887591e+01 2.65558347e+01\n",
      " 4.76904068e+01 4.76904068e+01 4.78045328e+01 4.78045328e+01]\n"
     ]
    }
   ],
   "source": [
    "print freqs2[0]\n",
    "assert (freqs2[0] == freqs2[1]).all()"
   ]
  },
  {
   "cell_type": "markdown",
   "metadata": {},
   "source": [
    "Energies match apparantly. Next: polarizations"
   ]
  },
  {
   "cell_type": "code",
   "execution_count": 87,
   "metadata": {},
   "outputs": [
    {
     "data": {
      "text/plain": [
       "array([[ 3.54763646e-13+0.j, -9.11045243e-13+0.j,  5.00000874e-01+0.j],\n",
       "       [ 3.56783533e-13+0.j, -9.24304724e-13+0.j,  5.00000874e-01+0.j],\n",
       "       [ 3.54855214e-13+0.j, -9.10807688e-13+0.j,  4.99999126e-01+0.j],\n",
       "       [ 3.56935177e-13+0.j, -9.24235284e-13+0.j,  4.99999126e-01+0.j]])"
      ]
     },
     "execution_count": 87,
     "metadata": {},
     "output_type": "execute_result"
    }
   ],
   "source": [
    "pols2[0][2]"
   ]
  },
  {
   "cell_type": "code",
   "execution_count": 88,
   "metadata": {},
   "outputs": [
    {
     "data": {
      "text/plain": [
       "array([[-3.54763646e-13+0.j,  9.11045243e-13+0.j, -5.00000874e-01+0.j],\n",
       "       [ 3.56783533e-13+0.j, -9.24304724e-13+0.j,  5.00000874e-01+0.j],\n",
       "       [-3.54855214e-13+0.j,  9.10807688e-13+0.j, -4.99999126e-01+0.j],\n",
       "       [ 3.56935177e-13+0.j, -9.24235284e-13+0.j,  4.99999126e-01+0.j]])"
      ]
     },
     "execution_count": 88,
     "metadata": {},
     "output_type": "execute_result"
    }
   ],
   "source": [
    "pols2[1][2]"
   ]
  },
  {
   "cell_type": "markdown",
   "metadata": {},
   "source": [
    "They don't match. for q=000, it is .5, .5, .5, .5. but for q=001, it is -.5, .5, -.5, .5\n",
    "\n",
    "Next we adjust the phase factor and see if they match"
   ]
  },
  {
   "cell_type": "code",
   "execution_count": 89,
   "metadata": {},
   "outputs": [
    {
     "data": {
      "text/plain": [
       "array([[-2.17230082e-29-3.54763646e-13j,  5.57854321e-29+9.11045243e-13j,\n",
       "        -3.06162235e-17-5.00000874e-01j],\n",
       "       [-6.55400717e-29-3.56783533e-13j,  1.69792023e-28+9.24304724e-13j,\n",
       "        -9.18486704e-17-5.00000874e-01j],\n",
       "       [-2.17286151e-29-3.54855214e-13j,  5.57708860e-29+9.10807688e-13j,\n",
       "        -3.06161165e-17-4.99999126e-01j],\n",
       "       [-6.55679283e-29-3.56935177e-13j,  1.69779267e-28+9.24235284e-13j,\n",
       "        -9.18483495e-17-4.99999126e-01j]])"
      ]
     },
     "execution_count": 89,
     "metadata": {},
     "output_type": "execute_result"
    }
   ],
   "source": [
    "pols2[1][2] * np.exp(1j*np.pi*2* np.dot(hkls2[1], fractional_positions.T))[:, np.newaxis]"
   ]
  },
  {
   "cell_type": "code",
   "execution_count": 93,
   "metadata": {},
   "outputs": [
    {
     "data": {
      "text/plain": [
       "True"
      ]
     },
     "execution_count": 93,
     "metadata": {},
     "output_type": "execute_result"
    }
   ],
   "source": [
    "np.allclose(\n",
    "    pols2[1][2] * np.exp(1j*np.pi*2* np.dot(hkls2[1], fractional_positions.T))[:, np.newaxis]  * 1j,\n",
    "    pols2[0][2],\n",
    ")"
   ]
  },
  {
   "cell_type": "markdown",
   "metadata": {},
   "source": [
    "It matches! Note that an overall extra phase factor is fine (1j)"
   ]
  },
  {
   "cell_type": "markdown",
   "metadata": {},
   "source": [
    "# More testing"
   ]
  },
  {
   "cell_type": "code",
   "execution_count": 45,
   "metadata": {},
   "outputs": [
    {
     "name": "stdout",
     "output_type": "stream",
     "text": [
      "(2, 12, 12)\n"
     ]
    }
   ],
   "source": [
    "hkls2 = [[0,0,0], [0,1,0]]\n",
    "phonon.set_qpoints_phonon(hkls2, is_eigenvectors=True, write_dynamical_matrices=False)\n",
    "freqs2, pols2 = phonon.get_qpoints_phonon()\n",
    "print pols2.shape\n",
    "pols2 = np.transpose(pols2, (0,2,1))\n",
    "pols2.shape = 2, 12, 4, 3"
   ]
  },
  {
   "cell_type": "code",
   "execution_count": 58,
   "metadata": {},
   "outputs": [
    {
     "name": "stdout",
     "output_type": "stream",
     "text": [
      "(2, 12)\n",
      "[3.34225831e-02 3.34225831e-02 9.28652901e-02 1.52100901e+00\n",
      " 1.52100901e+00 2.61040097e+00 2.63887591e+01 2.65558347e+01\n",
      " 4.76904068e+01 4.76904068e+01 4.78045328e+01 4.78045328e+01]\n"
     ]
    }
   ],
   "source": [
    "print freqs2.shape\n",
    "print freqs2[0]\n",
    "assert np.allclose(freqs2[0], freqs2[1])"
   ]
  },
  {
   "cell_type": "markdown",
   "metadata": {},
   "source": [
    "Energies match apparantly. Next: polarizations"
   ]
  },
  {
   "cell_type": "code",
   "execution_count": 47,
   "metadata": {},
   "outputs": [
    {
     "data": {
      "text/plain": [
       "array([[ 3.54763646e-13+0.j, -9.11045243e-13+0.j,  5.00000874e-01+0.j],\n",
       "       [ 3.56783533e-13+0.j, -9.24304724e-13+0.j,  5.00000874e-01+0.j],\n",
       "       [ 3.54855214e-13+0.j, -9.10807688e-13+0.j,  4.99999126e-01+0.j],\n",
       "       [ 3.56935177e-13+0.j, -9.24235284e-13+0.j,  4.99999126e-01+0.j]])"
      ]
     },
     "execution_count": 47,
     "metadata": {},
     "output_type": "execute_result"
    }
   ],
   "source": [
    "pols2[0][2]"
   ]
  },
  {
   "cell_type": "code",
   "execution_count": 48,
   "metadata": {},
   "outputs": [
    {
     "data": {
      "text/plain": [
       "array([[-2.73855177e-12+0.00000000e+00j,  3.93856247e-13+1.91944702e-12j,\n",
       "        -4.83545889e-01+1.27217319e-01j],\n",
       "       [-2.72549634e-12+1.26101100e-15j,  3.89695294e-13+1.91233730e-12j,\n",
       "        -4.83545889e-01+1.27217319e-01j],\n",
       "       [ 1.36931210e-12-2.37176272e-12j, -1.85917816e-12-6.19048638e-13j,\n",
       "         1.31599045e-01-4.82370001e-01j],\n",
       "       [ 1.36391507e-12+2.35975490e-12j,  1.46135079e-12-1.29360880e-12j,\n",
       "         3.51945138e-01+3.55153131e-01j]])"
      ]
     },
     "execution_count": 48,
     "metadata": {},
     "output_type": "execute_result"
    }
   ],
   "source": [
    "pols2[1][2]"
   ]
  },
  {
   "cell_type": "markdown",
   "metadata": {},
   "source": [
    "They don't match. \n",
    "\n",
    "Next we adjust the phase factor and see if they match"
   ]
  },
  {
   "cell_type": "code",
   "execution_count": 74,
   "metadata": {},
   "outputs": [
    {
     "data": {
      "text/plain": [
       "array([ 1. +0.j       ,  1. +0.j       , -0.5+0.8660254j, -0.5-0.8660254j])"
      ]
     },
     "execution_count": 74,
     "metadata": {},
     "output_type": "execute_result"
    }
   ],
   "source": [
    "np.exp(-1j*2*np.pi*np.dot(hkls2[1], fractional_positions.T))"
   ]
  },
  {
   "cell_type": "code",
   "execution_count": 81,
   "metadata": {},
   "outputs": [
    {
     "name": "stdout",
     "output_type": "stream",
     "text": [
      "[[2.64842165e-12+6.96779995e-13j 1.07478295e-13-1.95648527e-12j\n",
      "  5.00000000e-01-1.04971462e-10j]\n",
      " [2.63611674e-12+6.92238743e-13j 1.09693350e-13-1.94855085e-12j\n",
      "  5.00000000e-01-1.04972456e-10j]\n",
      " [2.64853472e-12+6.96786689e-13j 1.07888803e-13-1.95655597e-12j\n",
      "  4.99998253e-01-1.05769097e-08j]\n",
      " [2.63619522e-12+6.92211162e-13j 1.09772219e-13-1.94856527e-12j\n",
      "  4.99998253e-01+1.03669667e-08j]]\n"
     ]
    }
   ],
   "source": [
    "print pols2[1][2] * np.exp(1j*np.pi*2* np.dot(hkls2[1], fractional_positions.T))[:, np.newaxis] * .5/(-4.83545889e-01+1.27217319e-01j),"
   ]
  },
  {
   "cell_type": "code",
   "execution_count": 82,
   "metadata": {},
   "outputs": [
    {
     "data": {
      "text/plain": [
       "True"
      ]
     },
     "execution_count": 82,
     "metadata": {},
     "output_type": "execute_result"
    }
   ],
   "source": [
    "np.allclose(\n",
    "    pols2[1][2] * np.exp(1j*np.pi*2* np.dot(hkls2[1], fractional_positions.T))[:, np.newaxis]  * .5/(-4.83545889e-01+1.27217319e-01j),\n",
    "    pols2[0][2],\n",
    ")"
   ]
  },
  {
   "cell_type": "markdown",
   "metadata": {},
   "source": [
    "It matches! Note that an overall extra phase factor is fine "
   ]
  },
  {
   "cell_type": "code",
   "execution_count": null,
   "metadata": {},
   "outputs": [],
   "source": []
  },
  {
   "cell_type": "markdown",
   "metadata": {},
   "source": [
    "# More testing"
   ]
  },
  {
   "cell_type": "code",
   "execution_count": 94,
   "metadata": {},
   "outputs": [
    {
     "name": "stdout",
     "output_type": "stream",
     "text": [
      "(2, 12, 12)\n"
     ]
    }
   ],
   "source": [
    "hkls2 = [[0,0,0], [1,0,0]]\n",
    "phonon.set_qpoints_phonon(hkls2, is_eigenvectors=True, write_dynamical_matrices=False)\n",
    "freqs2, pols2 = phonon.get_qpoints_phonon()\n",
    "print pols2.shape\n",
    "pols2 = np.transpose(pols2, (0,2,1))\n",
    "pols2.shape = 2, 12, 4, 3"
   ]
  },
  {
   "cell_type": "code",
   "execution_count": 95,
   "metadata": {},
   "outputs": [
    {
     "name": "stdout",
     "output_type": "stream",
     "text": [
      "(2, 12)\n",
      "[3.34225831e-02 3.34225831e-02 9.28652901e-02 1.52100901e+00\n",
      " 1.52100901e+00 2.61040097e+00 2.63887591e+01 2.65558347e+01\n",
      " 4.76904068e+01 4.76904068e+01 4.78045328e+01 4.78045328e+01]\n"
     ]
    }
   ],
   "source": [
    "print freqs2.shape\n",
    "print freqs2[0]\n",
    "assert np.allclose(freqs2[0], freqs2[1])"
   ]
  },
  {
   "cell_type": "markdown",
   "metadata": {},
   "source": [
    "Energies match apparantly. Next: polarizations"
   ]
  },
  {
   "cell_type": "code",
   "execution_count": 96,
   "metadata": {},
   "outputs": [
    {
     "data": {
      "text/plain": [
       "array([[ 3.54763646e-13+0.j, -9.11045243e-13+0.j,  5.00000874e-01+0.j],\n",
       "       [ 3.56783533e-13+0.j, -9.24304724e-13+0.j,  5.00000874e-01+0.j],\n",
       "       [ 3.54855214e-13+0.j, -9.10807688e-13+0.j,  4.99999126e-01+0.j],\n",
       "       [ 3.56935177e-13+0.j, -9.24235284e-13+0.j,  4.99999126e-01+0.j]])"
      ]
     },
     "execution_count": 96,
     "metadata": {},
     "output_type": "execute_result"
    }
   ],
   "source": [
    "pols2[0][2]"
   ]
  },
  {
   "cell_type": "code",
   "execution_count": 97,
   "metadata": {},
   "outputs": [
    {
     "data": {
      "text/plain": [
       "array([[ 2.60927883e-13+0.00000000e+00j, -2.74967258e-12-5.40388288e-12j,\n",
       "        -4.82792600e-01-1.30046835e-01j],\n",
       "       [ 2.55083816e-13-1.09040293e-15j, -2.77238309e-12-5.45494847e-12j,\n",
       "        -4.82792600e-01-1.30046835e-01j],\n",
       "       [-1.30442351e-13-2.25886655e-13j, -3.30508248e-12+5.08329257e-12j,\n",
       "         1.28771977e-01+4.83132388e-01j],\n",
       "       [-1.26573222e-13+2.21437246e-13j,  6.11043195e-12+3.26466818e-13j,\n",
       "         3.54018918e-01-3.53086012e-01j]])"
      ]
     },
     "execution_count": 97,
     "metadata": {},
     "output_type": "execute_result"
    }
   ],
   "source": [
    "pols2[1][2]"
   ]
  },
  {
   "cell_type": "markdown",
   "metadata": {},
   "source": [
    "They don't match. \n",
    "Next we adjust the phase factor and see if they match"
   ]
  },
  {
   "cell_type": "code",
   "execution_count": 98,
   "metadata": {},
   "outputs": [
    {
     "data": {
      "text/plain": [
       "array([ 1. +0.j       ,  1. +0.j       , -0.5-0.8660254j, -0.5+0.8660254j])"
      ]
     },
     "execution_count": 98,
     "metadata": {},
     "output_type": "execute_result"
    }
   ],
   "source": [
    "np.exp(-1j*2*np.pi*np.dot(hkls2[1], fractional_positions.T))"
   ]
  },
  {
   "cell_type": "code",
   "execution_count": 99,
   "metadata": {},
   "outputs": [
    {
     "name": "stdout",
     "output_type": "stream",
     "text": [
      "[[ 2.60927883e-13+0.00000000e+00j -2.74967258e-12-5.40388288e-12j\n",
      "  -4.82792600e-01-1.30046835e-01j]\n",
      " [ 2.55083816e-13-1.09040293e-15j -2.77238309e-12-5.45494847e-12j\n",
      "  -4.82792600e-01-1.30046835e-01j]\n",
      " [ 2.60844757e-13-2.30622932e-17j -2.74971926e-12-5.40393167e-12j\n",
      "  -4.82790910e-01-1.30046390e-01j]\n",
      " [ 2.55056892e-13-1.10299717e-15j -2.77248742e-12-5.45502271e-12j\n",
      "  -4.82790916e-01-1.30046370e-01j]]\n"
     ]
    }
   ],
   "source": [
    "print pols2[1][2] * np.exp(1j*np.pi*2* np.dot(hkls2[1], fractional_positions.T))[:, np.newaxis] "
   ]
  },
  {
   "cell_type": "code",
   "execution_count": 100,
   "metadata": {},
   "outputs": [
    {
     "data": {
      "text/plain": [
       "True"
      ]
     },
     "execution_count": 100,
     "metadata": {},
     "output_type": "execute_result"
    }
   ],
   "source": [
    "np.allclose(\n",
    "    pols2[1][2] * np.exp(1j*np.pi*2* np.dot(hkls2[1], fractional_positions.T))[:, np.newaxis]  * .5/(-4.82792600e-01-1.30046835e-01j),\n",
    "    pols2[0][2],\n",
    ")"
   ]
  },
  {
   "cell_type": "markdown",
   "metadata": {},
   "source": [
    "It matches! Note that an overall extra phase factor is fine "
   ]
  },
  {
   "cell_type": "markdown",
   "metadata": {},
   "source": [
    "-j does not work:"
   ]
  },
  {
   "cell_type": "code",
   "execution_count": 101,
   "metadata": {},
   "outputs": [
    {
     "name": "stdout",
     "output_type": "stream",
     "text": [
      "[[ 2.60927883e-13+0.00000000e+00j -2.74967258e-12-5.40388288e-12j\n",
      "  -4.82792600e-01-1.30046835e-01j]\n",
      " [ 2.55083816e-13-1.09040293e-15j -2.77238309e-12-5.45494847e-12j\n",
      "  -4.82792600e-01-1.30046835e-01j]\n",
      " [-1.30402406e-13+2.25909717e-13j  6.05480174e-12+3.20639106e-13j\n",
      "   3.54018933e-01-3.53085998e-01j]\n",
      " [-1.28483669e-13-2.20334249e-13j -3.33794454e-12+5.12855589e-12j\n",
      "   1.28771997e-01+4.83132383e-01j]]\n"
     ]
    }
   ],
   "source": [
    "print pols2[1][2] * np.exp(-1j*np.pi*2* np.dot(hkls2[1], fractional_positions.T))[:, np.newaxis] "
   ]
  },
  {
   "cell_type": "code",
   "execution_count": null,
   "metadata": {},
   "outputs": [],
   "source": []
  }
 ],
 "metadata": {
  "kernelspec": {
   "display_name": "Python 2",
   "language": "python",
   "name": "python2"
  },
  "language_info": {
   "codemirror_mode": {
    "name": "ipython",
    "version": 2
   },
   "file_extension": ".py",
   "mimetype": "text/x-python",
   "name": "python",
   "nbconvert_exporter": "python",
   "pygments_lexer": "ipython2",
   "version": "2.7.15"
  }
 },
 "nbformat": 4,
 "nbformat_minor": 1
}
