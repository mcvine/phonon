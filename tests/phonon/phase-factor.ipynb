{
 "cells": [
  {
   "cell_type": "markdown",
   "metadata": {},
   "source": [
    "# It looks like that the polarization vectors computed by phonopy includes the phase factor exp(iQd)"
   ]
  },
  {
   "cell_type": "code",
   "execution_count": 1,
   "metadata": {
    "collapsed": true
   },
   "outputs": [],
   "source": [
    "# some goodies\n",
    "%matplotlib inline\n",
    "from matplotlib import pyplot as plt\n",
    "import numpy as np, histogram.hdf as hh, histogram as H\n",
    "import os"
   ]
  },
  {
   "cell_type": "markdown",
   "metadata": {},
   "source": [
    "## Phonon data"
   ]
  },
  {
   "cell_type": "code",
   "execution_count": 2,
   "metadata": {
    "collapsed": false
   },
   "outputs": [
    {
     "name": "stdout",
     "output_type": "stream",
     "text": [
      "FORCE_CONSTANTS  POSCAR  SPOSCAR\r\n"
     ]
    }
   ],
   "source": [
    "ls ../data/graphite/"
   ]
  },
  {
   "cell_type": "code",
   "execution_count": 3,
   "metadata": {
    "collapsed": false
   },
   "outputs": [],
   "source": [
    "disp_dir = os.path.abspath('../data/graphite/')"
   ]
  },
  {
   "cell_type": "code",
   "execution_count": 4,
   "metadata": {
    "collapsed": true
   },
   "outputs": [],
   "source": [
    "# cat {disp_dir}/POSCAR\n",
    "# cat {disp_dir}/SPOSCAR"
   ]
  },
  {
   "cell_type": "markdown",
   "metadata": {},
   "source": [
    "## basis and reciprocal basis"
   ]
  },
  {
   "cell_type": "code",
   "execution_count": 5,
   "metadata": {
    "collapsed": false
   },
   "outputs": [
    {
     "data": {
      "text/plain": [
       "array([[ 2.44618916,  0.        ,  0.        ],\n",
       "       [-1.22309458,  2.11846196,  0.        ],\n",
       "       [ 0.        ,  0.        ,  6.65422905]])"
      ]
     },
     "execution_count": 5,
     "metadata": {},
     "output_type": "execute_result"
    }
   ],
   "source": [
    "basis = np.array(\n",
    "    map(float,\n",
    "        \"2.44618916393\t0.0\t0.0\t-1.22309458197\t2.11846195843\t0.0\t0.0\t0.0\t6.65422904762\".split())\n",
    "    )\n",
    "basis.shape = 3, 3\n",
    "basis"
   ]
  },
  {
   "cell_type": "code",
   "execution_count": 6,
   "metadata": {
    "collapsed": false
   },
   "outputs": [
    {
     "data": {
      "text/plain": [
       "(4, 3)"
      ]
     },
     "execution_count": 6,
     "metadata": {},
     "output_type": "execute_result"
    }
   ],
   "source": [
    "# atom positions\n",
    "fractional_positions = np.array([\n",
    "    [0, 0, .25],\n",
    "    [0, 0, .75],\n",
    "    [1./3, 2./3, 0.25],\n",
    "    [2./3, 1./3, 0.75]\n",
    "])\n",
    "\n",
    "positions = np.dot(fractional_positions, basis)\n",
    "positions.shape"
   ]
  },
  {
   "cell_type": "code",
   "execution_count": 7,
   "metadata": {
    "collapsed": false
   },
   "outputs": [],
   "source": [
    "a1,a2,a3 = basis\n",
    "v = np.dot(a1, np.cross(a2, a3))\n",
    "b1 = 2*np.pi * np.cross(a2, a3)/v\n",
    "b2 = 2*np.pi * np.cross(a3, a1)/v\n",
    "b3 = 2*np.pi * np.cross(a1, a2)/v\n",
    "Q_basis = np.array([b1, b2, b3])"
   ]
  },
  {
   "cell_type": "code",
   "execution_count": 8,
   "metadata": {
    "collapsed": true
   },
   "outputs": [],
   "source": [
    "inv_Q_basis = np.linalg.inv(Q_basis)"
   ]
  },
  {
   "cell_type": "markdown",
   "metadata": {},
   "source": [
    "## Compute phonons"
   ]
  },
  {
   "cell_type": "code",
   "execution_count": 9,
   "metadata": {
    "collapsed": true
   },
   "outputs": [],
   "source": [
    "from phonopy.interface import vasp\n",
    "from phonopy.units import VaspToTHz\n",
    "from phonopy import Phonopy, file_IO\n",
    "\n",
    "bulk = vasp.read_vasp(os.path.join(disp_dir, 'POSCAR'), ['C'])\n",
    "phonon = Phonopy(bulk, supercell_matrix=np.diag([6,6,1]), factor=VaspToTHz)\n",
    "phonon.generate_displacements(distance=0.01)\n",
    "force_constants = file_IO.parse_FORCE_CONSTANTS(os.path.join(disp_dir, 'FORCE_CONSTANTS'))\n",
    "phonon.set_force_constants(force_constants)"
   ]
  },
  {
   "cell_type": "markdown",
   "metadata": {},
   "source": [
    "## Polarization vectors: phase"
   ]
  },
  {
   "cell_type": "markdown",
   "metadata": {},
   "source": [
    "It looks like the pol vectors from phonopy includes the phase factor. let us check"
   ]
  },
  {
   "cell_type": "code",
   "execution_count": 10,
   "metadata": {
    "collapsed": false
   },
   "outputs": [
    {
     "name": "stdout",
     "output_type": "stream",
     "text": [
      "(2, 12, 12)\n"
     ]
    }
   ],
   "source": [
    "hkls2 = [[0,0,0], [0,0,1]]\n",
    "phonon.set_qpoints_phonon(hkls2, is_eigenvectors=True, write_dynamical_matrices=False)\n",
    "freqs2, pols2 = phonon.get_qpoints_phonon()\n",
    "print pols2.shape\n",
    "pols2 = np.transpose(pols2, (0,2,1))\n",
    "pols2.shape = 2, 12, 4, 3"
   ]
  },
  {
   "cell_type": "code",
   "execution_count": 11,
   "metadata": {
    "collapsed": false
   },
   "outputs": [
    {
     "name": "stdout",
     "output_type": "stream",
     "text": [
      "[[  3.34225831e-02   3.34225831e-02   9.28652901e-02   1.52100901e+00\n",
      "    1.52100901e+00   2.61040097e+00   2.63887591e+01   2.65558347e+01\n",
      "    4.76904068e+01   4.76904068e+01   4.78045328e+01   4.78045328e+01]\n",
      " [  3.34225831e-02   3.34225831e-02   9.28652901e-02   1.52100901e+00\n",
      "    1.52100901e+00   2.61040097e+00   2.63887591e+01   2.65558347e+01\n",
      "    4.76904068e+01   4.76904068e+01   4.78045328e+01   4.78045328e+01]]\n"
     ]
    }
   ],
   "source": [
    "print freqs2\n",
    "assert (freqs2[0] == freqs2[1]).all()"
   ]
  },
  {
   "cell_type": "markdown",
   "metadata": {},
   "source": [
    "Energies match apparantly. Next: polarizations"
   ]
  },
  {
   "cell_type": "code",
   "execution_count": 12,
   "metadata": {
    "collapsed": false
   },
   "outputs": [
    {
     "data": {
      "text/plain": [
       "array([[ -6.93685038e-12+0.j,   4.35802460e-12+0.j,  -5.00000874e-01+0.j],\n",
       "       [ -6.89630367e-12+0.j,   4.37933976e-12+0.j,  -5.00000874e-01+0.j],\n",
       "       [ -6.93700313e-12+0.j,   4.35832020e-12+0.j,  -4.99999126e-01+0.j],\n",
       "       [ -6.89659952e-12+0.j,   4.37929682e-12+0.j,  -4.99999126e-01+0.j]])"
      ]
     },
     "execution_count": 12,
     "metadata": {},
     "output_type": "execute_result"
    }
   ],
   "source": [
    "pols2[0][2]"
   ]
  },
  {
   "cell_type": "code",
   "execution_count": 13,
   "metadata": {
    "collapsed": false
   },
   "outputs": [
    {
     "data": {
      "text/plain": [
       "array([[ -6.93685038e-12 +0.00000000e+00j,\n",
       "          4.35802460e-12 -3.43326754e-27j,\n",
       "         -5.00000874e-01 -1.55037388e-16j],\n",
       "       [  6.89630367e-12 -6.12376232e-27j,\n",
       "         -4.37933976e-12 +7.34336765e-27j,\n",
       "          5.00000874e-01 -2.89052597e-16j],\n",
       "       [ -6.93700313e-12 -2.73356413e-32j,\n",
       "          4.35832020e-12 -3.43332411e-27j,\n",
       "         -4.99999126e-01 -1.55036847e-16j],\n",
       "       [  6.89659952e-12 -6.12398803e-27j,\n",
       "         -4.37929682e-12 +7.34338645e-27j,\n",
       "          4.99999126e-01 -2.89051587e-16j]])"
      ]
     },
     "execution_count": 13,
     "metadata": {},
     "output_type": "execute_result"
    }
   ],
   "source": [
    "pols2[1][2]"
   ]
  },
  {
   "cell_type": "markdown",
   "metadata": {},
   "source": [
    "They don't match. for q=000, it is -.5, -.5, -.5, -.5. but for q=001, it is -.5, .5, -.5, .5\n",
    "\n",
    "Next we adjust the phase factor and see if they match"
   ]
  },
  {
   "cell_type": "code",
   "execution_count": 14,
   "metadata": {
    "collapsed": false
   },
   "outputs": [
    {
     "data": {
      "text/plain": [
       "True"
      ]
     },
     "execution_count": 14,
     "metadata": {},
     "output_type": "execute_result"
    }
   ],
   "source": [
    "np.allclose(\n",
    "    pols2[1][2] * np.exp(-1j*np.pi*2* np.dot(hkls2[1], fractional_positions.T))[:, np.newaxis]  * 1j,\n",
    "    pols2[0][2],\n",
    ")"
   ]
  },
  {
   "cell_type": "markdown",
   "metadata": {},
   "source": [
    "It matches! Note that an overall extra phase factor is fine (1j)"
   ]
  }
 ],
 "metadata": {
  "kernelspec": {
   "display_name": "Python 2",
   "language": "python",
   "name": "python2"
  },
  "language_info": {
   "codemirror_mode": {
    "name": "ipython",
    "version": 2
   },
   "file_extension": ".py",
   "mimetype": "text/x-python",
   "name": "python",
   "nbconvert_exporter": "python",
   "pygments_lexer": "ipython2",
   "version": "2.7.12"
  }
 },
 "nbformat": 4,
 "nbformat_minor": 1
}
